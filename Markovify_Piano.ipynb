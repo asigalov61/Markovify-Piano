{
  "nbformat": 4,
  "nbformat_minor": 0,
  "metadata": {
    "colab": {
      "name": "Markovify_Piano.ipynb",
      "private_outputs": true,
      "provenance": [],
      "collapsed_sections": [],
      "toc_visible": true,
      "machine_shape": "hm"
    },
    "kernelspec": {
      "name": "python3",
      "display_name": "Python 3"
    }
  },
  "cells": [
    {
      "cell_type": "markdown",
      "metadata": {
        "id": "EBSe4NI8ojlq"
      },
      "source": [
        "# Markovify Piano (ver 3.0)\n",
        "\n",
        "***\n",
        "\n",
        "## Based upon absolutely amazing markovify package of @jsvine: https://github.com/jsvine/markovify\n",
        "\n",
        "## Powered by tegridy-tools TMIDI 2.0 Optimus Processors\n",
        "\n",
        "***\n",
        "\n",
        "### Project Los Angeles\n",
        "### Tegridy Code 2021\n",
        "\n",
        "***"
      ]
    },
    {
      "cell_type": "markdown",
      "metadata": {
        "id": "kL_ZOMyDo_uS"
      },
      "source": [
        "# Setup environment"
      ]
    },
    {
      "cell_type": "code",
      "metadata": {
        "id": "EJFb1Z36RONl",
        "cellView": "form"
      },
      "source": [
        "#@title Install dependencies\n",
        "!git clone https://github.com/asigalov61/tegridy-tools\n",
        "!pip install unidecode\n",
        "!pip install tqdm\n",
        "!apt install fluidsynth #Pip does not work for some reason. Only apt works\n",
        "!pip install midi2audio\n",
        "\n",
        "# packages below are for plotting pianoroll only\n",
        "# they are not needed for anything else\n",
        "!pip install pretty_midi\n",
        "!pip install librosa\n",
        "!pip install matplotlib"
      ],
      "execution_count": null,
      "outputs": []
    },
    {
      "cell_type": "code",
      "metadata": {
        "id": "dLmnUQ8cRX7n",
        "cellView": "form"
      },
      "source": [
        "#@title Load needed modules\n",
        "print('Loading needed modules. Please wait...')\n",
        "\n",
        "import sys\n",
        "import os\n",
        "import json\n",
        "import secrets\n",
        "\n",
        "os.chdir('/content/tegridy-tools/tegridy-tools/')\n",
        "import TMIDI\n",
        "import markovify\n",
        "os.chdir('/content/')\n",
        "\n",
        "from pprint import pprint\n",
        "\n",
        "import tqdm.auto\n",
        "\n",
        "from midi2audio import FluidSynth\n",
        "from IPython.display import display, Javascript, HTML, Audio\n",
        "\n",
        "# only for plotting pianoroll\n",
        "import pretty_midi\n",
        "import librosa.display\n",
        "import matplotlib.pyplot as plt\n",
        "\n",
        "from google.colab import output, drive\n",
        "\n",
        "print('Creating Dataset dir...')\n",
        "if not os.path.exists('/content/Dataset'):\n",
        "    os.makedirs('/content/Dataset')\n",
        "\n",
        "os.chdir('/content/')\n",
        "print('Loading complete. Enjoy! :)')"
      ],
      "execution_count": null,
      "outputs": []
    },
    {
      "cell_type": "markdown",
      "metadata": {
        "id": "jItW4Hl1pEYp"
      },
      "source": [
        "# Download/upload desired MIDI dataset\n",
        "\n",
        "## NOTE: Dataset must be sufficiently large and homogenous for Markov chain to train/perform properly."
      ]
    },
    {
      "cell_type": "markdown",
      "metadata": {
        "id": "3Sx23l3kjeDM"
      },
      "source": [
        "# Pre-processed Dataset and Model"
      ]
    },
    {
      "cell_type": "code",
      "metadata": {
        "cellView": "form",
        "id": "bFcG89Nc-eOB"
      },
      "source": [
        "#@title Download and process World Piano Melodies Model (Recommended)\n",
        "\n",
        "#@markdown NOTE: You can jump straight to music generation after running this code/cell. The model will be loaded and prepped for use.\n",
        "\n",
        "%cd /content/\n",
        "\n",
        "!wget --no-check-certificate -O Markovify-Piano-Melodies-Music-Model.zip \"https://onedrive.live.com/download?cid=8A0D502FC99C608F&resid=8A0D502FC99C608F%2118483&authkey=ABcsBJclHUenKxg\"\n",
        "!unzip -j Markovify-Piano-Melodies-Music-Model.zip\n",
        "\n",
        "%cd /content/\n",
        "\n",
        "model_json = TMIDI.Tegridy_Any_Pickle_File_Loader('/content/Markovify-Piano-Music-Model-4')\n",
        "markov_text_model = markovify.Text.from_json(model_json)"
      ],
      "execution_count": null,
      "outputs": []
    },
    {
      "cell_type": "code",
      "metadata": {
        "id": "b5XzQ9Ovjh8n",
        "cellView": "form"
      },
      "source": [
        "#@title Download World Melodies pre-processed dataset\n",
        "\n",
        "#@markdown This dataset is great for melody generation or quick testing\n",
        "\n",
        "#@markdown Works best stand-alone/as-is for the optimal results\n",
        "%cd /content/\n",
        "\n",
        "!wget 'https://github.com/asigalov61/Markovify-Piano/raw/main/Models-Datasets/Markovify-Piano-Music-TXT-Dataset.zip.001'\n",
        "!wget 'https://github.com/asigalov61/Markovify-Piano/raw/main/Models-Datasets/Markovify-Piano-Music-TXT-Dataset.zip.002'\n",
        "\n",
        "!cat Markovify-Piano-Music-TXT-Dataset.zip* > Markovify-Piano-Music-TXT-Dataset.zip\n",
        "!unzip -j Markovify-Piano-Music-TXT-Dataset.zip\n",
        "\n",
        "%cd /content/"
      ],
      "execution_count": null,
      "outputs": []
    },
    {
      "cell_type": "markdown",
      "metadata": {
        "id": "uP5qmKGijbPk"
      },
      "source": [
        "## MIDI Datasets"
      ]
    },
    {
      "cell_type": "code",
      "metadata": {
        "id": "FlUzyX0F_XmL",
        "cellView": "form"
      },
      "source": [
        "#@title Download Special Tegridy Piano MIDI dataset\n",
        "\n",
        "#@markdown Works best stand-alone/as-is for the optimal results\n",
        "%cd /content/Dataset/\n",
        "\n",
        "!wget 'https://github.com/asigalov61/Tegridy-MIDI-Dataset/raw/master/Tegridy-Piano-CC-BY-NC-SA.zip'\n",
        "!unzip -j '/content/Dataset/Tegridy-Piano-CC-BY-NC-SA.zip'\n",
        "!rm '/content/Dataset/Tegridy-Piano-CC-BY-NC-SA.zip'\n",
        "\n",
        "%cd /content/"
      ],
      "execution_count": null,
      "outputs": []
    },
    {
      "cell_type": "code",
      "metadata": {
        "cellView": "form",
        "id": "2ztkRhTsQko_"
      },
      "source": [
        "#@title Download Full Multi-Instrumental Tegridy MIDI dataset\n",
        "\n",
        "#@markdown Works best stand-alone/as-is for the optimal results\n",
        "%cd /content/Dataset/\n",
        "\n",
        "!wget 'https://github.com/asigalov61/Tegridy-MIDI-Dataset/raw/master/Tegridy-MIDI-Dataset-CC-BY-NC-SA.zip'\n",
        "!unzip -j '/content/Dataset/Tegridy-MIDI-Dataset-CC-BY-NC-SA.zip'\n",
        "!rm '/content/Dataset/Tegridy-MIDI-Dataset-CC-BY-NC-SA.zip'\n",
        "\n",
        "%cd /content/"
      ],
      "execution_count": null,
      "outputs": []
    },
    {
      "cell_type": "markdown",
      "metadata": {
        "id": "TL4yMfc_pTpZ"
      },
      "source": [
        "# Process the MIDI dataset\n",
        "\n",
        "## NOTE: If you are not sure what settings to select, please use original defaults"
      ]
    },
    {
      "cell_type": "code",
      "metadata": {
        "id": "XJCLH_2gDKZb",
        "cellView": "form"
      },
      "source": [
        "#@title Process MIDIs to special MIDI dataset with Tegridy MIDI Processor\n",
        "#@markdown NOTES:\n",
        "\n",
        "#@markdown 1) Dataset MIDI file names are used as song names. Feel free to change it to anything you like.\n",
        "\n",
        "#@markdown 2) Best results are achieved with the single-track, single-channel, single-instrument MIDI 0 files with plain English names (avoid special or sys/foreign chars)\n",
        "\n",
        "#@markdown 3) MIDI Channel = -1 means all MIDI channels. MIDI Channel = 16 means all channels will be processed. Otherwise, only single indicated MIDI channel will be processed.\n",
        "\n",
        "file_name_to_output_dataset_to = \"/content/Markovify-Piano-Music-TXT-Dataset\" #@param {type:\"string\"}\n",
        "desired_MIDI_channel_to_process = 0 #@param {type:\"slider\", min:-1, max:16, step:1}\n",
        "encode_MIDI_channels = True #@param {type:\"boolean\"}\n",
        "encode_velocities = False #@param {type:\"boolean\"}\n",
        "chordify_input_MIDIs = False #@param {type:\"boolean\"}\n",
        "melody_conditioned_encoding = True #@param {type:\"boolean\"}\n",
        "melody_pitch_baseline = 1 #@param {type:\"slider\", min:1, max:127, step:1}\n",
        "time_denominator = 1 #@param {type:\"slider\", min:1, max:20, step:1}\n",
        "chars_encoding_offset = 30000 #@param {type:\"number\"}\n",
        "\n",
        "print('TMIDI Processor')\n",
        "print('Starting up...')\n",
        "\n",
        "###########\n",
        "\n",
        "average_note_pitch = 0\n",
        "min_note = 127\n",
        "max_note = 0\n",
        "\n",
        "files_count = 0\n",
        "\n",
        "ev = 0\n",
        "\n",
        "chords_list_f = []\n",
        "melody_list_f = []\n",
        "\n",
        "chords_list = []\n",
        "chords_count = 0\n",
        "\n",
        "melody_chords = []\n",
        "melody_count = 0\n",
        "\n",
        "TXT_String = 'DATASET=Optimus-Virtuoso-Music-Dataset' + chr(10)\n",
        "\n",
        "TXT = ''\n",
        "melody = []\n",
        "chords = []\n",
        "bf = 0\n",
        "###########\n",
        "\n",
        "print('Loading MIDI files...')\n",
        "print('This may take a while on a large dataset in particular.')\n",
        "\n",
        "dataset_addr = \"/content/Dataset/\"\n",
        "os.chdir(dataset_addr)\n",
        "filez = os.listdir(dataset_addr)\n",
        "\n",
        "print('Processing MIDI files. Please wait...')\n",
        "for f in tqdm.auto.tqdm(filez):\n",
        "  try:\n",
        "    fn = os.path.basename(f)\n",
        "    fn1 = fn.split('.')[0]\n",
        "    #notes = song_notes_list[song_notes_list.index(fn1)+1]\n",
        "\n",
        "\n",
        "    files_count += 1\n",
        "    TXT, melody, chords = TMIDI.Optimus_MIDI_TXT_Processor(f, \n",
        "                                                           line_by_line_output=False, \n",
        "                                                           chordify_TXT=chordify_input_MIDIs, \n",
        "                                                           output_MIDI_channels=encode_MIDI_channels, \n",
        "                                                           char_offset=chars_encoding_offset, \n",
        "                                                           dataset_MIDI_events_time_denominator=time_denominator, \n",
        "                                                           output_velocity=encode_velocities, \n",
        "                                                           MIDI_channel=desired_MIDI_channel_to_process,\n",
        "                                                           MIDI_patch=range(0,127), \n",
        "                                                           melody_conditioned_encoding=melody_conditioned_encoding,\n",
        "                                                           melody_pitch_baseline=melody_pitch_baseline)\n",
        "    melody_list_f += melody\n",
        "    chords_list_f += chords\n",
        "    \n",
        "    #TXT_String += 'INTRO=' + notes + '\\n'\n",
        "    TXT_String += TXT\n",
        "  \n",
        "  except KeyboardInterrupt:\n",
        "    print('Exiting...Saving progress...')\n",
        "    break\n",
        "\n",
        "  except:\n",
        "    bf += 1\n",
        "    print('Bad MIDI:', f)\n",
        "    print('Count:', bf)\n",
        "    \n",
        "    continue\n",
        "\n",
        "print('Task complete :)')\n",
        "print('==================================================')\n",
        "print('Number of processed dataset MIDI files:', files_count)\n",
        "print('Number of MIDI chords recorded:', len(chords_list_f))\n",
        "print('First chord event:', chords_list_f[0], 'Last chord event:', chords_list_f[-1]) \n",
        "print('Number of recorded melody events:', len(melody_list_f))\n",
        "print('First melody event:', melody_list_f[0], 'Last Melody event:', melody_list_f[-1])\n",
        "print('Total number of MIDI events recorded:', len(chords_list_f) + len(melody_list_f))\n",
        "\n",
        "# Writing dataset to TXT file\n",
        "with open(file_name_to_output_dataset_to + '.txt', 'wb') as f:\n",
        "  f.write(TXT_String.encode('utf-8', 'replace'))\n",
        "  f.close\n",
        "\n",
        "# Dataset\n",
        "MusicDataset = [chords_list_f, melody_list_f]\n",
        "\n",
        "# Writing dataset to pickle file\n",
        "TMIDI.Tegridy_Pickle_File_Writer(MusicDataset, file_name_to_output_dataset_to)"
      ],
      "execution_count": null,
      "outputs": []
    },
    {
      "cell_type": "markdown",
      "metadata": {
        "id": "JvW5hBgypjvG"
      },
      "source": [
        "# Load processed TXT MIDI dataset into memory"
      ]
    },
    {
      "cell_type": "code",
      "metadata": {
        "id": "obLoEFSyRf0A",
        "cellView": "form"
      },
      "source": [
        "#@title Load/Reload processed TXT dataset\n",
        "full_path_to_TXT_dataset = \"/content/Markovify-Piano-Music-TXT-Dataset.txt\" #@param {type:\"string\"}\n",
        "\n",
        "print('Loading TXT MIDI dataset. Please wait...')\n",
        "with open(full_path_to_TXT_dataset) as f:\n",
        "    text = f.read()\n",
        "print('Dataset loaded! Enjoy :)')    "
      ],
      "execution_count": null,
      "outputs": []
    },
    {
      "cell_type": "markdown",
      "metadata": {
        "id": "3OTxbIeNpqJX"
      },
      "source": [
        "# Train TXT Markov chain/model"
      ]
    },
    {
      "cell_type": "code",
      "metadata": {
        "id": "gwqWDKOqR4QF",
        "cellView": "form"
      },
      "source": [
        "#@title Train Markov-chain/model\n",
        "markov_chain_state_size = 10 #@param {type:\"slider\", min:1, max:10, step:1}\n",
        "\n",
        "print('Training Markov chain/model. Please wait...')\n",
        "markov_text_model = markovify.NewlineText(text, well_formed=False, state_size=markov_chain_state_size)\n",
        "\n",
        "print('Compiling model...')\n",
        "markov_text_model.compile(inplace=True)\n",
        "\n",
        "print('Model is ready! Enjoy :)')"
      ],
      "execution_count": null,
      "outputs": []
    },
    {
      "cell_type": "code",
      "metadata": {
        "id": "Sf90eqSn9KXt",
        "cellView": "form"
      },
      "source": [
        "#@title Save the model\n",
        "full_path_to_json_save_file = \"/content/Markovify-Piano-Music-Model.json\" #@param {type:\"string\"}\n",
        "legacy_model = False #@param {type:\"boolean\"}\n",
        "\n",
        "print('Converting model to json...')\n",
        "model_json = markov_text_model.to_json()\n",
        "\n",
        "if legacy_model == False:\n",
        "  TMIDI.Tegridy_Pickle_File_Writer(model_json, full_path_to_json_save_file)\n",
        "\n",
        "else:\n",
        "  print('Saving model as json file...')\n",
        "  with open(full_path_to_json_save_file, 'w') as f:\n",
        "      json.dump(model_json, f)\n",
        "\n",
        "print('Task complete! Enjoy! :)')"
      ],
      "execution_count": null,
      "outputs": []
    },
    {
      "cell_type": "code",
      "metadata": {
        "id": "h4qjfAC-9WyU",
        "cellView": "form"
      },
      "source": [
        "#@title Load/Re-load saved model\n",
        "full_path_to_json_save_file = \"/content/Markovify-Piano-Music-Model.json\" #@param {type:\"string\"}\n",
        "legacy_model = False #@param {type:\"boolean\"}\n",
        "\n",
        "if legacy_model == False:\n",
        "  model_json = TMIDI.Tegridy_Any_Pickle_File_Loader(full_path_to_json_save_file)\n",
        "\n",
        "else:\n",
        "\n",
        "  print('Loading model from json file...')\n",
        "  f = open(full_path_to_json_save_file)\n",
        "  model_json = json.load(f)\n",
        "\n",
        "print('Restoring the model...')\n",
        "markov_text_model = markovify.Text.from_json(model_json)\n",
        "\n",
        "print('Model loaded and restored! Enjoy! :)')"
      ],
      "execution_count": null,
      "outputs": []
    },
    {
      "cell_type": "markdown",
      "metadata": {
        "id": "648zbZC4puqD"
      },
      "source": [
        "# Generate music composition"
      ]
    },
    {
      "cell_type": "code",
      "metadata": {
        "id": "MgTC2ybISJLe",
        "cellView": "form"
      },
      "source": [
        "#@title Generate Music\n",
        "\n",
        "#@markdown HINT: Each note = 3-5 characters depending on the MIDI processing settings above\n",
        "\n",
        "#@markdown NOTE: If nothing is being generated after 5 attempts, try again with different model state # and generation settings\n",
        "\n",
        "#@markdown NOTE: For practical purposes only the longest attempt is returned.\n",
        "\n",
        "minimum_number_of_characters_to_generate = 350 #@param {type:\"slider\", min:50, max:1500, step:100}\n",
        "number_of_cycles_to_try_to_generate_desired_result = 10000 #@param {type:\"slider\", min:10, max:10000, step:10}\n",
        "minimum_notes_to_generate = 150 #@param {type:\"slider\", min:10, max:1000, step:10}\n",
        "overlap_ratio = 0.7 #@param {type:\"slider\", min:0.1, max:1, step:0.05}\n",
        "max_overlap_notes_total = 16 #@param {type:\"slider\", min:1, max:100, step:1}\n",
        "let_run_wild = False #@param {type:\"boolean\"}\n",
        "full_path_to_input_MIDI_file = \"\" #@param {type:\"string\"}\n",
        "enable_plagiarizm_check = False #@param {type:\"boolean\"}\n",
        "print_generated_song = False #@param {type:\"boolean\"}\n",
        "\n",
        "Output_TXT_String = ''\n",
        "\n",
        "attempt = 0\n",
        "\n",
        "print('Generating music composition. Please wait...')\n",
        "\n",
        "while (len(Output_TXT_String.split(' ')[1:])-2) < minimum_notes_to_generate:\n",
        "  \n",
        "  if not let_run_wild:\n",
        "    if full_path_to_input_MIDI_file == '':\n",
        "      out = markov_text_model.make_sentence(min_chars=minimum_number_of_characters_to_generate, \n",
        "                              tries=number_of_cycles_to_try_to_generate_desired_result,\n",
        "                              max_overlap_ratio=overlap_ratio, \n",
        "                              test_output=enable_plagiarizm_check,\n",
        "                              max_overlap_total=max_overlap_notes_total)\n",
        "    else:\n",
        "      T, C, M = TMIDI.Optimus_MIDI_TXT_Processor(full_path_to_input_MIDI_file, line_by_line_output=False, output_velocity=False)\n",
        "      TXT = T.split()\n",
        "      out = markov_text_model.make_sentence_with_start(' '.join(TXT[-2:-1]), strict=False, min_chars=minimum_number_of_characters_to_generate, \n",
        "                              tries=number_of_cycles_to_try_to_generate_desired_result,\n",
        "                              max_overlap_ratio=overlap_ratio, \n",
        "                              test_output=enable_plagiarizm_check,\n",
        "                              max_overlap_total=max_overlap_notes_total)   \n",
        "  \n",
        "  else:\n",
        "    if full_path_to_input_MIDI_file == '':\n",
        "      out = markov_text_model.make_sentence(test_output=enable_plagiarizm_check)\n",
        "    else:\n",
        "      T, C, M = TMIDI.Optimus_MIDI_TXT_Processor(full_path_to_input_MIDI_file, line_by_line_output=False, output_velocity=False)\n",
        "      TXT = T.split()\n",
        "      out = markov_text_model.make_sentence_with_start(' '.join(TXT[-2:-1]), strict=False)   \n",
        "   \n",
        "  if out == None: out = ''  \n",
        "  \n",
        "  if len(''.join(out)) > len(Output_TXT_String):\n",
        "    Output_TXT_String = ''.join(out)\n",
        "  print('Attempt #', attempt)\n",
        "  attempt += 1\n",
        "  \n",
        "  if attempt > 5:\n",
        "    break\n",
        "\n",
        "if out != '':\n",
        "\n",
        "  print('Generation complete!')\n",
        "  print('=' * 70)\n",
        "  print(Output_TXT_String.split(' ')[0], 'with', len(Output_TXT_String.split(' ')[1:])-2, 'notes.')\n",
        "  print('=' * 70)\n",
        "\n",
        "  if print_generated_song:\n",
        "    pprint(Output_TXT_String)\n",
        "    print('=' * 70)\n",
        "else:\n",
        "  print('Could not generate anything. Try again and/or change the generation settings.')"
      ],
      "execution_count": null,
      "outputs": []
    },
    {
      "cell_type": "markdown",
      "metadata": {
        "id": "S9i_kfkfp1Qr"
      },
      "source": [
        "# Convert generated music composition to MIDI file and download/listen to the output :)"
      ]
    },
    {
      "cell_type": "code",
      "metadata": {
        "id": "4anGLsMEFBg3",
        "cellView": "form"
      },
      "source": [
        "#@title Convert to MIDI from TXT (w/Tegridy MIDI-TXT Processor)\n",
        "\n",
        "#@markdown Standard MIDI timings are 400/120(80)\n",
        "\n",
        "'''For debug:'''\n",
        "\n",
        "#fname = '/content/Optimus-VIRTUOSO-Composition-generated-on-2021-02-25_00_45_41_715972'\n",
        "#with open(fname + '.txt', 'r') as f:\n",
        "#  completion = f.read()\n",
        "fname = '/content/Markovify-Piano-Music-Composition'\n",
        "completion = Output_TXT_String\n",
        "\n",
        "#completion = TXT_String[:1500]\n",
        "\n",
        "\n",
        "number_of_ticks_per_quarter = 420 #@param {type:\"slider\", min:10, max:500, step:10}\n",
        "dataset_time_denominator = 1 #@param {type:\"slider\", min:1, max:20, step:1}\n",
        "encoding_has_MIDI_channels = True #@param {type:\"boolean\"}\n",
        "encoding_has_velocities = False #@param {type:\"boolean\"}\n",
        "simulate_velocity = True #@param {type:\"boolean\"}\n",
        "chars_encoding_offset_used_for_dataset = 30000 #@param {type:\"number\"}\n",
        "\n",
        "print('Converting TXT to MIDI. Please wait...')\n",
        "print('Converting TXT to Song...')\n",
        "output_list, song_name = TMIDI.Tegridy_Optimus_TXT_to_Notes_Converter(completion, \n",
        "                                                                has_MIDI_channels=encoding_has_MIDI_channels, \n",
        "                                                                simulate_velocity=simulate_velocity,\n",
        "                                                                char_encoding_offset=chars_encoding_offset_used_for_dataset,\n",
        "                                                                save_only_first_composition=True,\n",
        "                                                                dataset_MIDI_events_time_denominator=dataset_time_denominator,\n",
        "                                                                has_velocities=encoding_has_velocities,\n",
        "                                                                line_by_line_dataset=False)\n",
        "\n",
        "print('Converting Song to MIDI...')\n",
        "\n",
        "output_signature = 'Markovify Piano'\n",
        "\n",
        "detailed_stats = TMIDI.Tegridy_SONG_to_MIDI_Converter(output_list,\n",
        "                                                      output_signature = output_signature,  \n",
        "                                                      output_file_name = fname, \n",
        "                                                      track_name=song_name, \n",
        "                                                      number_of_ticks_per_quarter=number_of_ticks_per_quarter,\n",
        "                                                      )\n",
        "\n",
        "print('Done!')\n",
        "\n",
        "print('Downloading your composition now...')\n",
        "from google.colab import files\n",
        "files.download(fname + '.mid')\n",
        "\n",
        "print('Detailed MIDI stats:')\n",
        "detailed_stats"
      ],
      "execution_count": null,
      "outputs": []
    },
    {
      "cell_type": "code",
      "metadata": {
        "cellView": "form",
        "id": "tTc4mhBLe-TV"
      },
      "source": [
        "#@title Plot and listen to the last generated composition\n",
        "#@markdown NOTE: May be very slow with the long compositions\n",
        "fn = os.path.basename(fname + '.mid')\n",
        "fn1 = fn.split('.')[0]\n",
        "print('Playing and plotting composition...')\n",
        "\n",
        "pm = pretty_midi.PrettyMIDI(fname + '.mid')\n",
        "\n",
        "# Retrieve piano roll of the MIDI file\n",
        "piano_roll = pm.get_piano_roll()\n",
        "\n",
        "plt.figure(figsize=(14, 5))\n",
        "librosa.display.specshow(piano_roll, x_axis='time', y_axis='cqt_note', sr=64000, cmap=plt.cm.hot)\n",
        "plt.title('Composition: ' + fn1)\n",
        "\n",
        "print('Synthesizing the last output MIDI. Please stand-by... ')\n",
        "FluidSynth(\"/usr/share/sounds/sf2/FluidR3_GM.sf2\", 16000).midi_to_audio(str(fname + '.mid'), str(fname + '.wav'))\n",
        "Audio(str(fname + '.wav'), rate=16000)"
      ],
      "execution_count": null,
      "outputs": []
    }
  ]
}